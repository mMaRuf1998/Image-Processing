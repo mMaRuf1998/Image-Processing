{
 "cells": [
  {
   "cell_type": "code",
   "execution_count": 1,
   "metadata": {},
   "outputs": [],
   "source": [
    "import pickle\n",
    "import sys\n",
    "from concurrent.futures import ProcessPoolExecutor, as_completed\n",
    "import biosppy.signals.tools as st\n",
    "import numpy as np\n",
    "import os\n",
    "import wfdb\n",
    "import biosppy\n",
    "from scipy.signal import medfilt\n",
    "from sklearn.utils import cpu_count\n",
    "from tqdm import tqdm"
   ]
  },
  {
   "cell_type": "code",
   "execution_count": 2,
   "metadata": {},
   "outputs": [
    {
     "name": "stderr",
     "output_type": "stream",
     "text": [
      "c:\\Python27\\lib\\site-packages\\sklearn\\utils\\deprecation.py:77: DeprecationWarning: Function cpu_count is deprecated; deprecated in version 0.20.1 to be removed in version 0.23. Please import this functionality directly from joblib, which can be installed with: pip install joblib.\n",
      "  warnings.warn(msg, category=DeprecationWarning)\n",
      "c:\\Python27\\lib\\site-packages\\sklearn\\utils\\deprecation.py:77: DeprecationWarning: Function cpu_count is deprecated; deprecated in version 0.20.1 to be removed in version 0.23. Please import this functionality directly from joblib, which can be installed with: pip install joblib.\n",
      "  warnings.warn(msg, category=DeprecationWarning)\n"
     ]
    }
   ],
   "source": [
    "base_dir = \"F:\\Trials\\apneaEcg\\apnea-ecg\\1.0.0\"\n",
    "\n",
    "fs = 100\n",
    "sample = fs * 60  # 1 min's sample points\n",
    "\n",
    "before = 2  # forward interval (min)\n",
    "after = 2  # backward interval (min)\n",
    "hr_min = 20\n",
    "hr_max = 300\n",
    "\n",
    "num_worker = 35 if cpu_count() > 35 else cpu_count() - 1  # Setting according to the number of CPU cores"
   ]
  },
  {
   "cell_type": "code",
   "execution_count": 3,
   "metadata": {},
   "outputs": [],
   "source": [
    "def worker(name, labels):\n",
    "    X = []\n",
    "    y = []\n",
    "    groups = []\n",
    "    signals = wfdb.rdrecord(os.path.join(base_dir, name), channels=[0]).p_signal[:, 0]\n",
    "    for j in tqdm(range(len(labels)), desc=name, file=sys.stdout):\n",
    "        if j < before or \\\n",
    "                (j + 1 + after) > len(signals) / float(sample):\n",
    "            continue\n",
    "        signal = signals[int((j - before) * sample):int((j + 1 + after) * sample)]\n",
    "        signal, _, _ = st.filter_signal(signal, ftype='FIR', band='bandpass', order=int(0.3 * fs),\n",
    "                                        frequency=[3, 45], sampling_rate=fs)\n",
    "        # Find R peaks\n",
    "        rpeaks, = hamilton_segmenter(signal, sampling_rate=fs)\n",
    "        rpeaks, = correct_rpeaks(signal, rpeaks=rpeaks, sampling_rate=fs, tol=0.1)\n",
    "        if len(rpeaks) / (1 + after + before) < 40 or \\\n",
    "                len(rpeaks) / (1 + after + before) > 200:  # Remove abnormal R peaks signal\n",
    "            continue\n",
    "        # Extract RRI, Ampl signal\n",
    "        rri_tm, rri_signal = rpeaks[1:] / float(fs), np.diff(rpeaks) / float(fs)\n",
    "        rri_signal = medfilt(rri_signal, kernel_size=3)\n",
    "        ampl_tm, ampl_siganl = rpeaks / float(fs), signal[rpeaks]\n",
    "        hr = 60 / rri_signal\n",
    "        # Remove physiologically impossible HR signal\n",
    "        if np.all(np.logical_and(hr >= hr_min, hr <= hr_max)):\n",
    "            # Save extracted signal\n",
    "            X.append([(rri_tm, rri_signal), (ampl_tm, ampl_siganl)])\n",
    "            y.append(0. if labels[j] == 'N' else 1.)\n",
    "            groups.append(name)\n",
    "    return X, y, groups"
   ]
  },
  {
   "cell_type": "code",
   "execution_count": 4,
   "metadata": {},
   "outputs": [
    {
     "name": "stdout",
     "output_type": "stream",
     "text": [
      "Training...\n"
     ]
    },
    {
     "ename": "TypeError",
     "evalue": "rdann() got an unexpected keyword argument 'extension'",
     "output_type": "error",
     "traceback": [
      "\u001b[1;31m\u001b[0m",
      "\u001b[1;31mTypeError\u001b[0mTraceback (most recent call last)",
      "\u001b[1;32m<ipython-input-4-9d8b51f8ec17>\u001b[0m in \u001b[0;36m<module>\u001b[1;34m()\u001b[0m\n\u001b[0;32m     16\u001b[0m         \u001b[0mtask_list\u001b[0m \u001b[1;33m=\u001b[0m \u001b[1;33m[\u001b[0m\u001b[1;33m]\u001b[0m\u001b[1;33m\u001b[0m\u001b[0m\n\u001b[0;32m     17\u001b[0m         \u001b[1;32mfor\u001b[0m \u001b[0mi\u001b[0m \u001b[1;32min\u001b[0m \u001b[0mrange\u001b[0m\u001b[1;33m(\u001b[0m\u001b[0mlen\u001b[0m\u001b[1;33m(\u001b[0m\u001b[0mnames\u001b[0m\u001b[1;33m)\u001b[0m\u001b[1;33m)\u001b[0m\u001b[1;33m:\u001b[0m\u001b[1;33m\u001b[0m\u001b[0m\n\u001b[1;32m---> 18\u001b[1;33m             \u001b[0mlabels\u001b[0m \u001b[1;33m=\u001b[0m \u001b[0mwfdb\u001b[0m\u001b[1;33m.\u001b[0m\u001b[0mrdann\u001b[0m\u001b[1;33m(\u001b[0m\u001b[0mos\u001b[0m\u001b[1;33m.\u001b[0m\u001b[0mpath\u001b[0m\u001b[1;33m.\u001b[0m\u001b[0mjoin\u001b[0m\u001b[1;33m(\u001b[0m\u001b[0mbase_dir\u001b[0m\u001b[1;33m,\u001b[0m \u001b[0mnames\u001b[0m\u001b[1;33m[\u001b[0m\u001b[0mi\u001b[0m\u001b[1;33m]\u001b[0m\u001b[1;33m)\u001b[0m\u001b[1;33m,\u001b[0m \u001b[0mextension\u001b[0m\u001b[1;33m=\u001b[0m\u001b[1;34m\"apn\"\u001b[0m\u001b[1;33m)\u001b[0m\u001b[1;33m.\u001b[0m\u001b[0msymbol\u001b[0m\u001b[1;33m\u001b[0m\u001b[0m\n\u001b[0m\u001b[0;32m     19\u001b[0m             \u001b[0mtask_list\u001b[0m\u001b[1;33m.\u001b[0m\u001b[0mappend\u001b[0m\u001b[1;33m(\u001b[0m\u001b[0mexecutor\u001b[0m\u001b[1;33m.\u001b[0m\u001b[0msubmit\u001b[0m\u001b[1;33m(\u001b[0m\u001b[0mworker\u001b[0m\u001b[1;33m,\u001b[0m \u001b[0mnames\u001b[0m\u001b[1;33m[\u001b[0m\u001b[0mi\u001b[0m\u001b[1;33m]\u001b[0m\u001b[1;33m,\u001b[0m \u001b[0mlabels\u001b[0m\u001b[1;33m)\u001b[0m\u001b[1;33m)\u001b[0m\u001b[1;33m\u001b[0m\u001b[0m\n\u001b[0;32m     20\u001b[0m \u001b[1;33m\u001b[0m\u001b[0m\n",
      "\u001b[1;31mTypeError\u001b[0m: rdann() got an unexpected keyword argument 'extension'"
     ]
    }
   ],
   "source": [
    "if __name__ == \"__main__\":\n",
    "    apnea_ecg = {}\n",
    "\n",
    "    names = [\n",
    "        \"a01\", \"a02\", \"a03\", \"a04\", \"a05\", \"a06\", \"a07\", \"a08\", \"a09\", \"a10\",\n",
    "        \"a11\", \"a12\", \"a13\", \"a14\", \"a15\", \"a16\", \"a17\", \"a18\", \"a19\", \"a20\",\n",
    "        \"b01\", \"b02\", \"b03\", \"b04\", \"b05\",\n",
    "        \"c01\", \"c02\", \"c03\", \"c04\", \"c05\", \"c06\", \"c07\", \"c08\", \"c09\", \"c10\"\n",
    "    ]\n",
    "\n",
    "    o_train = []\n",
    "    y_train = []\n",
    "    groups_train = []\n",
    "    print('Training...')\n",
    "    with ProcessPoolExecutor(max_workers=num_worker) as executor:\n",
    "        task_list = []\n",
    "        for i in range(len(names)):\n",
    "            labels = wfdb.rdann(os.path.join(base_dir, names[i]), extension=\"apn\").symbol\n",
    "            task_list.append(executor.submit(worker, names[i], labels))\n",
    "\n",
    "        for task in as_completed(task_list):\n",
    "            X, y, groups = task.result()\n",
    "            o_train.extend(X)\n",
    "            y_train.extend(y)\n",
    "            groups_train.extend(groups)\n",
    "\n",
    "    print()\n",
    "\n",
    "    answers = {}\n",
    "    with open(os.path.join(base_dir, \"event-2-answers\"), \"r\") as f:\n",
    "        for answer in f.read().split(\"\\n\\n\"):\n",
    "            answers[answer[:3]] = list(\"\".join(answer.split()[2::2]))\n",
    "\n",
    "    names = [\n",
    "        \"x01\", \"x02\", \"x03\", \"x04\", \"x05\", \"x06\", \"x07\", \"x08\", \"x09\", \"x10\",\n",
    "        \"x11\", \"x12\", \"x13\", \"x14\", \"x15\", \"x16\", \"x17\", \"x18\", \"x19\", \"x20\",\n",
    "        \"x21\", \"x22\", \"x23\", \"x24\", \"x25\", \"x26\", \"x27\", \"x28\", \"x29\", \"x30\",\n",
    "        \"x31\", \"x32\", \"x33\", \"x34\", \"x35\"\n",
    "    ]\n",
    "\n",
    "    o_test = []\n",
    "    y_test = []\n",
    "    groups_test = []\n",
    "    print(\"Testing...\")\n",
    "    with ProcessPoolExecutor(max_workers=num_worker) as executor:\n",
    "        task_list = []\n",
    "        for i in range(len(names)):\n",
    "            labels = answers[names[i]]\n",
    "            task_list.append(executor.submit(worker, names[i], labels))\n",
    "\n",
    "        for task in as_completed(task_list):\n",
    "            X, y, groups = task.result()\n",
    "            o_test.extend(X)\n",
    "            y_test.extend(y)\n",
    "            groups_test.extend(groups)\n",
    "\n",
    "    apnea_ecg = dict(o_train=o_train, y_train=y_train, groups_train=groups_train, o_test=o_test, y_test=y_test,\n",
    "                     groups_test=groups_test)\n",
    "    with open(os.path.join(base_dir, \"apnea-ecg.pkl\"), \"wb\") as f:\n",
    "        pickle.dump(apnea_ecg, f, protocol=2)\n",
    "\n",
    "    print(\"\\nok!\")"
   ]
  },
  {
   "cell_type": "code",
   "execution_count": null,
   "metadata": {},
   "outputs": [],
   "source": []
  }
 ],
 "metadata": {
  "kernelspec": {
   "display_name": "Python 3",
   "language": "python",
   "name": "python3"
  },
  "language_info": {
   "codemirror_mode": {
    "name": "ipython",
    "version": 2
   },
   "file_extension": ".py",
   "mimetype": "text/x-python",
   "name": "python",
   "nbconvert_exporter": "python",
   "pygments_lexer": "ipython2",
   "version": "2.7.18"
  }
 },
 "nbformat": 4,
 "nbformat_minor": 2
}
