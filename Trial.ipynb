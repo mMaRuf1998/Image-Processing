{
  "nbformat": 4,
  "nbformat_minor": 0,
  "metadata": {
    "colab": {
      "provenance": [],
      "mount_file_id": "16ZNx91-D2xy6wiqOQBI4xm4gZVeclCxs",
      "authorship_tag": "ABX9TyOnT9cKGDnegEdDqyvjGg7f",
      "include_colab_link": true
    },
    "kernelspec": {
      "name": "python3",
      "display_name": "Python 3"
    },
    "language_info": {
      "name": "python"
    }
  },
  "cells": [
    {
      "cell_type": "markdown",
      "metadata": {
        "id": "view-in-github",
        "colab_type": "text"
      },
      "source": [
        "<a href=\"https://colab.research.google.com/github/mMaRuf1998/Image-Processing/blob/main/Trial.ipynb\" target=\"_parent\"><img src=\"https://colab.research.google.com/assets/colab-badge.svg\" alt=\"Open In Colab\"/></a>"
      ]
    },
    {
      "cell_type": "code",
      "source": [
        "import pickle\n",
        "from tensorflow import keras\n",
        "from keras.utils import to_categorical\n",
        "import matplotlib.pyplot as plt\n",
        "import numpy as np\n",
        "import os\n",
        "from keras.callbacks import LearningRateScheduler\n",
        "from keras.layers import Conv1D, Dense, Dropout, Flatten, MaxPooling1D\n",
        "from keras.layers import Input, Dense\n",
        "from keras.models import Model\n",
        "from keras.regularizers import l2\n",
        "from scipy.interpolate import splev, splrep\n",
        "import pandas as pd\n",
        "from keras.datasets import cifar10\n",
        "from keras.layers import Input, Dense\n",
        "from keras.models import Model\n",
        "\n",
        "base_dir = \"/content/drive/MyDrive/apnea-ecg/1.0.0\"\n",
        "\n",
        "ir = 3 # interpolate interval\n",
        "before = 2\n",
        "after = 2\n",
        "\n",
        "# normalize\n",
        "scaler = lambda arr: (arr - np.min(arr)) / (np.max(arr) - np.min(arr))"
      ],
      "metadata": {
        "id": "kYPmu-zTFj9J"
      },
      "execution_count": 2,
      "outputs": []
    },
    {
      "cell_type": "code",
      "source": [
        "base_dir = \"/content/drive/MyDrive/apnea-ecg/1.0.0\"\n",
        "\n",
        "ir = 3\n",
        "before = 2\n",
        "after = 2\n",
        "\n",
        "# normalize\n",
        "scaler = lambda arr: (arr - np.min(arr)) / (np.max(arr) - np.min(arr))\n"
      ],
      "metadata": {
        "id": "QTr39Hm2FpoT"
      },
      "execution_count": 3,
      "outputs": []
    },
    {
      "cell_type": "code",
      "source": [
        "def load_data():\n",
        "    tm = np.arange(0, (before + 1 + after) * 60, step=1 / float(ir))\n",
        "\n",
        "    with open(os.path.join(base_dir, \"apnea-ecg2.pkl\"), 'rb') as f: # read preprocessing result\n",
        "        apnea_ecg = pickle.load(f)\n",
        "\n",
        "    x_train = []\n",
        "    o_train, y_train = apnea_ecg[\"o_train\"], apnea_ecg[\"y_train\"]\n",
        "    groups_train = apnea_ecg[\"groups_train\"]\n",
        "    for i in range(len(o_train)):\n",
        "        (rri_tm, rri_signal), (ampl_tm, ampl_signal) = o_train[i]\n",
        "        # Curve interpolation\n",
        "        rri_interp_signal = splev(tm, splrep(rri_tm, scaler(rri_signal), k=3), ext=1)\n",
        "        ampl_interp_signal = splev(tm, splrep(ampl_tm, scaler(ampl_signal), k=3), ext=1)\n",
        "        combined_signal = np.concatenate((rri_interp_signal, ampl_interp_signal))  # Combine the two signals\n",
        "        x_train.append(combined_signal)\n",
        "    x_train = np.array(x_train, dtype=\"float32\")  # Convert to numpy format\n",
        "    y_train = np.array(y_train, dtype=\"float32\")\n",
        "\n",
        "    x_test = []\n",
        "    o_test, y_test = apnea_ecg[\"o_test\"], apnea_ecg[\"y_test\"]\n",
        "    groups_test = apnea_ecg[\"groups_test\"]\n",
        "    for i in range(len(o_test)):\n",
        "        (rri_tm, rri_signal), (ampl_tm, ampl_signal) = o_test[i]\n",
        "        # Curve interpolation\n",
        "        rri_interp_signal = splev(tm, splrep(rri_tm, scaler(rri_signal), k=3), ext=1)\n",
        "        ampl_interp_signal = splev(tm, splrep(ampl_tm, scaler(ampl_signal), k=3), ext=1)\n",
        "        combined_signal = np.concatenate((rri_interp_signal, ampl_interp_signal))  # Combine the two signals\n",
        "        x_test.append(combined_signal)\n",
        "    x_test = np.array(x_test, dtype=\"float32\")  # Convert to numpy format\n",
        "    y_test = np.array(y_test, dtype=\"float32\")\n",
        "\n",
        "    return x_train, y_train, groups_train, x_test, y_test, groups_test"
      ],
      "metadata": {
        "id": "U4F9Pa35M-JD"
      },
      "execution_count": 4,
      "outputs": []
    },
    {
      "cell_type": "code",
      "source": [
        "def create_model(input_shape, weight=1e-3):\n",
        "\n",
        "    inputs = Input(shape=input_shape)\n",
        "\n",
        "\t# Conv1\n",
        "    x = Conv1D(32, kernel_size=5, strides=2, padding=\"valid\", activation=\"relu\", kernel_initializer=\"he_normal\",\n",
        "               kernel_regularizer=l2(weight), bias_regularizer=l2(weight))(inputs)\n",
        "    x = MaxPooling1D(pool_size=3)(x)\n",
        "\n",
        "\t# Conv3\n",
        "    x = Conv1D(64, kernel_size=5, strides=2, padding=\"valid\", activation=\"relu\", kernel_initializer=\"he_normal\",\n",
        "               kernel_regularizer=l2(1e-3), bias_regularizer=l2(weight))(x)\n",
        "    x = MaxPooling1D(pool_size=3)(x)\n",
        "\n",
        "    x = Dropout(0.8)(x)\n",
        "    \t# FC6\n",
        "    x = Flatten()(x)\n",
        "    x = Dense(32, activation=\"relu\")(x)\n",
        "    outputs = Dense(2, activation=\"softmax\")(x)\n",
        "\n",
        "    model = Model(inputs=inputs, outputs=outputs)\n",
        "    return model"
      ],
      "metadata": {
        "id": "b8wNM2jKncWY"
      },
      "execution_count": 5,
      "outputs": []
    },
    {
      "cell_type": "code",
      "source": [
        "def lr_schedule(epoch, lr):\n",
        "    if epoch > 70 and \\\n",
        "            (epoch - 1) % 10 == 0:\n",
        "        lr *= 0.1\n",
        "    print(\"Learning rate: \", lr)\n",
        "    return lr\n",
        "\n",
        "\n",
        "def plot(history):\n",
        "    from matplotlib import pyplot as plt\n",
        "\n",
        "    fig, axes = plt.subplots(1, 2, figsize=(10, 4))\n",
        "    axes[0].plot(history[\"loss\"], \"r-\", history[\"val_loss\"], \"b-\", linewidth=0.5)\n",
        "    axes[0].set_title(\"Loss\")\n",
        "    axes[1].plot(history[\"accuracy\"], \"r-\", history[\"val_accuracy\"], \"b-\", linewidth=0.5)\n",
        "    axes[1].set_title(\"Accuracy\")\n",
        "    fig.tight_layout()\n",
        "    fig.show()\n",
        "\n",
        "\n",
        "if __name__ == \"__main__\":\n",
        "    x_train, y_train, groups_train, x_test, y_test, groups_test = load_data()\n",
        "\n",
        "    print(x_train)\n",
        "\n",
        "    print(\"train num:\", len(y_train))\n",
        "    print(\"test num:\", len(y_test))"
      ],
      "metadata": {
        "colab": {
          "base_uri": "https://localhost:8080/"
        },
        "id": "SoRAMO4ZnmYU",
        "outputId": "b0b6a8e6-3675-49e9-834f-1e33950a589b"
      },
      "execution_count": 6,
      "outputs": [
        {
          "output_type": "stream",
          "name": "stdout",
          "text": [
            "[[0.         0.         0.         ... 0.4936155  0.45841396 0.31752214]\n",
            " [0.         0.         0.         ... 0.82969093 0.7051687  0.        ]\n",
            " [0.         0.         0.         ... 0.8446995  0.         0.        ]\n",
            " ...\n",
            " [0.         0.         0.         ... 0.59414256 0.         0.        ]\n",
            " [0.         0.         0.         ... 0.5418224  0.5096765  0.        ]\n",
            " [0.         0.         0.         ... 0.2315064  0.         0.        ]]\n",
            "train num: 16709\n",
            "test num: 16945\n"
          ]
        }
      ]
    },
    {
      "cell_type": "code",
      "source": [
        "clf1 = LinearDiscriminantAnalysis(solver='svd',tol=1e-4)\n",
        "clf2 = QuadraticDiscriminantAnalysis(tol=8.30e-4)\n",
        "clf3 = svm.SVC(kernel='rbf', C=252, gamma=0.75)\n",
        "clf4 = KNeighborsClassifier(n_neighbors=11, metric='manhattan',leaf_size=70,p=1)\n",
        "clf5= RandomForestClassifier(n_estimators=90, max_depth=11)\n",
        "clf6= DecisionTreeClassifier(max_depth=5,splitter='best',criterion = 'gini')\n",
        "clf7= ExtraTreesClassifier(n_estimators=80, max_depth=28,min_samples_split = 2,criterion = 'gini')\n",
        "clf8 = MLPClassifier(hidden_layer_sizes=(50), activation='relu', max_iter=500, solver='adam', alpha=0.0001,\n",
        "                     learning_rate='constant', learning_rate_init=0.001, tol=1e-4)\n",
        "clf9 = GradientBoostingClassifier(n_estimators=80, max_depth=24, subsample=0.59, criterion='friedman_mse', loss='exponential')\n",
        "clf10 = LogisticRegression(solver='lbfgs',C=95.78,tol=1e-4, penalty='l2')\n",
        "clf11 = AdaBoostClassifier(n_estimators=70,learning_rate=0.39, algorithm='SAMME.R')\n",
        "clf12 = GaussianNB(var_smoothing=0.00946)\n",
        "clf13 = GaussianProcessClassifier(kernel=rbf_kernel, max_iter_predict=3, optimizer='fmin_l_bfgs_b', warm_start=True)\n",
        "clf = VotingClassifier(\n",
        "   estimators=[('C1',clf1),('C2',clf2),('C3',clf3)],\n",
        " voting='hard')"
      ],
      "metadata": {
        "id": "jarngYVnn58U"
      },
      "execution_count": 8,
      "outputs": []
    },
    {
      "cell_type": "code",
      "source": [
        "import pandas as pd\n",
        "from sklearn.neural_network import MLPClassifier\n",
        "from sklearn.ensemble import ExtraTreesClassifier\n",
        "from sklearn.discriminant_analysis import LinearDiscriminantAnalysis\n",
        "from sklearn.decomposition import PCA\n",
        "from sklearn.neighbors import KNeighborsClassifier\n",
        "from sklearn.ensemble import RandomForestClassifier\n",
        "from sklearn.tree import DecisionTreeClassifier\n",
        "from sklearn import svm\n",
        "from sklearn.ensemble import AdaBoostClassifier\n",
        "from sklearn.linear_model import LogisticRegression\n",
        "from sklearn.metrics import confusion_matrix\n",
        "from sklearn import preprocessing\n",
        "from sklearn.naive_bayes import GaussianNB\n",
        "from sklearn.ensemble import  VotingClassifier\n",
        "from sklearn.discriminant_analysis import QuadraticDiscriminantAnalysis\n",
        "from sklearn.model_selection import StratifiedKFold\n",
        "from sklearn.ensemble import GradientBoostingClassifier\n",
        "from sklearn.gaussian_process import GaussianProcessClassifier\n",
        "from sklearn.gaussian_process.kernels import RBF\n",
        "from sklearn.gaussian_process import GaussianProcessClassifier\n",
        "\n",
        "rbf_kernel = RBF(length_scale=1.0)"
      ],
      "metadata": {
        "id": "Qq-wAE4joF9m"
      },
      "execution_count": 7,
      "outputs": []
    },
    {
      "cell_type": "code",
      "source": [
        "clf.fit(x_train, y_train)"
      ],
      "metadata": {
        "colab": {
          "base_uri": "https://localhost:8080/",
          "height": 145
        },
        "id": "CRFj9VrNoKnA",
        "outputId": "197fe927-200b-43d5-f5df-ca98ef169a2c"
      },
      "execution_count": 9,
      "outputs": [
        {
          "output_type": "stream",
          "name": "stderr",
          "text": [
            "/usr/local/lib/python3.10/dist-packages/sklearn/discriminant_analysis.py:926: UserWarning: Variables are collinear\n",
            "  warnings.warn(\"Variables are collinear\")\n"
          ]
        },
        {
          "output_type": "execute_result",
          "data": {
            "text/plain": [
              "VotingClassifier(estimators=[('C1', LinearDiscriminantAnalysis()),\n",
              "                             ('C2', QuadraticDiscriminantAnalysis(tol=0.00083)),\n",
              "                             ('C3', SVC(C=252, gamma=0.75))])"
            ],
            "text/html": [
              "<style>#sk-container-id-1 {color: black;background-color: white;}#sk-container-id-1 pre{padding: 0;}#sk-container-id-1 div.sk-toggleable {background-color: white;}#sk-container-id-1 label.sk-toggleable__label {cursor: pointer;display: block;width: 100%;margin-bottom: 0;padding: 0.3em;box-sizing: border-box;text-align: center;}#sk-container-id-1 label.sk-toggleable__label-arrow:before {content: \"▸\";float: left;margin-right: 0.25em;color: #696969;}#sk-container-id-1 label.sk-toggleable__label-arrow:hover:before {color: black;}#sk-container-id-1 div.sk-estimator:hover label.sk-toggleable__label-arrow:before {color: black;}#sk-container-id-1 div.sk-toggleable__content {max-height: 0;max-width: 0;overflow: hidden;text-align: left;background-color: #f0f8ff;}#sk-container-id-1 div.sk-toggleable__content pre {margin: 0.2em;color: black;border-radius: 0.25em;background-color: #f0f8ff;}#sk-container-id-1 input.sk-toggleable__control:checked~div.sk-toggleable__content {max-height: 200px;max-width: 100%;overflow: auto;}#sk-container-id-1 input.sk-toggleable__control:checked~label.sk-toggleable__label-arrow:before {content: \"▾\";}#sk-container-id-1 div.sk-estimator input.sk-toggleable__control:checked~label.sk-toggleable__label {background-color: #d4ebff;}#sk-container-id-1 div.sk-label input.sk-toggleable__control:checked~label.sk-toggleable__label {background-color: #d4ebff;}#sk-container-id-1 input.sk-hidden--visually {border: 0;clip: rect(1px 1px 1px 1px);clip: rect(1px, 1px, 1px, 1px);height: 1px;margin: -1px;overflow: hidden;padding: 0;position: absolute;width: 1px;}#sk-container-id-1 div.sk-estimator {font-family: monospace;background-color: #f0f8ff;border: 1px dotted black;border-radius: 0.25em;box-sizing: border-box;margin-bottom: 0.5em;}#sk-container-id-1 div.sk-estimator:hover {background-color: #d4ebff;}#sk-container-id-1 div.sk-parallel-item::after {content: \"\";width: 100%;border-bottom: 1px solid gray;flex-grow: 1;}#sk-container-id-1 div.sk-label:hover label.sk-toggleable__label {background-color: #d4ebff;}#sk-container-id-1 div.sk-serial::before {content: \"\";position: absolute;border-left: 1px solid gray;box-sizing: border-box;top: 0;bottom: 0;left: 50%;z-index: 0;}#sk-container-id-1 div.sk-serial {display: flex;flex-direction: column;align-items: center;background-color: white;padding-right: 0.2em;padding-left: 0.2em;position: relative;}#sk-container-id-1 div.sk-item {position: relative;z-index: 1;}#sk-container-id-1 div.sk-parallel {display: flex;align-items: stretch;justify-content: center;background-color: white;position: relative;}#sk-container-id-1 div.sk-item::before, #sk-container-id-1 div.sk-parallel-item::before {content: \"\";position: absolute;border-left: 1px solid gray;box-sizing: border-box;top: 0;bottom: 0;left: 50%;z-index: -1;}#sk-container-id-1 div.sk-parallel-item {display: flex;flex-direction: column;z-index: 1;position: relative;background-color: white;}#sk-container-id-1 div.sk-parallel-item:first-child::after {align-self: flex-end;width: 50%;}#sk-container-id-1 div.sk-parallel-item:last-child::after {align-self: flex-start;width: 50%;}#sk-container-id-1 div.sk-parallel-item:only-child::after {width: 0;}#sk-container-id-1 div.sk-dashed-wrapped {border: 1px dashed gray;margin: 0 0.4em 0.5em 0.4em;box-sizing: border-box;padding-bottom: 0.4em;background-color: white;}#sk-container-id-1 div.sk-label label {font-family: monospace;font-weight: bold;display: inline-block;line-height: 1.2em;}#sk-container-id-1 div.sk-label-container {text-align: center;}#sk-container-id-1 div.sk-container {/* jupyter's `normalize.less` sets `[hidden] { display: none; }` but bootstrap.min.css set `[hidden] { display: none !important; }` so we also need the `!important` here to be able to override the default hidden behavior on the sphinx rendered scikit-learn.org. See: https://github.com/scikit-learn/scikit-learn/issues/21755 */display: inline-block !important;position: relative;}#sk-container-id-1 div.sk-text-repr-fallback {display: none;}</style><div id=\"sk-container-id-1\" class=\"sk-top-container\"><div class=\"sk-text-repr-fallback\"><pre>VotingClassifier(estimators=[(&#x27;C1&#x27;, LinearDiscriminantAnalysis()),\n",
              "                             (&#x27;C2&#x27;, QuadraticDiscriminantAnalysis(tol=0.00083)),\n",
              "                             (&#x27;C3&#x27;, SVC(C=252, gamma=0.75))])</pre><b>In a Jupyter environment, please rerun this cell to show the HTML representation or trust the notebook. <br />On GitHub, the HTML representation is unable to render, please try loading this page with nbviewer.org.</b></div><div class=\"sk-container\" hidden><div class=\"sk-item sk-dashed-wrapped\"><div class=\"sk-label-container\"><div class=\"sk-label sk-toggleable\"><input class=\"sk-toggleable__control sk-hidden--visually\" id=\"sk-estimator-id-1\" type=\"checkbox\" ><label for=\"sk-estimator-id-1\" class=\"sk-toggleable__label sk-toggleable__label-arrow\">VotingClassifier</label><div class=\"sk-toggleable__content\"><pre>VotingClassifier(estimators=[(&#x27;C1&#x27;, LinearDiscriminantAnalysis()),\n",
              "                             (&#x27;C2&#x27;, QuadraticDiscriminantAnalysis(tol=0.00083)),\n",
              "                             (&#x27;C3&#x27;, SVC(C=252, gamma=0.75))])</pre></div></div></div><div class=\"sk-parallel\"><div class=\"sk-parallel-item\"><div class=\"sk-item\"><div class=\"sk-label-container\"><div class=\"sk-label sk-toggleable\"><label>C1</label></div></div><div class=\"sk-serial\"><div class=\"sk-item\"><div class=\"sk-estimator sk-toggleable\"><input class=\"sk-toggleable__control sk-hidden--visually\" id=\"sk-estimator-id-2\" type=\"checkbox\" ><label for=\"sk-estimator-id-2\" class=\"sk-toggleable__label sk-toggleable__label-arrow\">LinearDiscriminantAnalysis</label><div class=\"sk-toggleable__content\"><pre>LinearDiscriminantAnalysis()</pre></div></div></div></div></div></div><div class=\"sk-parallel-item\"><div class=\"sk-item\"><div class=\"sk-label-container\"><div class=\"sk-label sk-toggleable\"><label>C2</label></div></div><div class=\"sk-serial\"><div class=\"sk-item\"><div class=\"sk-estimator sk-toggleable\"><input class=\"sk-toggleable__control sk-hidden--visually\" id=\"sk-estimator-id-3\" type=\"checkbox\" ><label for=\"sk-estimator-id-3\" class=\"sk-toggleable__label sk-toggleable__label-arrow\">QuadraticDiscriminantAnalysis</label><div class=\"sk-toggleable__content\"><pre>QuadraticDiscriminantAnalysis(tol=0.00083)</pre></div></div></div></div></div></div><div class=\"sk-parallel-item\"><div class=\"sk-item\"><div class=\"sk-label-container\"><div class=\"sk-label sk-toggleable\"><label>C3</label></div></div><div class=\"sk-serial\"><div class=\"sk-item\"><div class=\"sk-estimator sk-toggleable\"><input class=\"sk-toggleable__control sk-hidden--visually\" id=\"sk-estimator-id-4\" type=\"checkbox\" ><label for=\"sk-estimator-id-4\" class=\"sk-toggleable__label sk-toggleable__label-arrow\">SVC</label><div class=\"sk-toggleable__content\"><pre>SVC(C=252, gamma=0.75)</pre></div></div></div></div></div></div></div></div></div></div>"
            ]
          },
          "metadata": {},
          "execution_count": 9
        }
      ]
    },
    {
      "cell_type": "code",
      "source": [
        "y_pred = clf.predict(x_test)"
      ],
      "metadata": {
        "id": "__-5WOdtwiPZ"
      },
      "execution_count": 10,
      "outputs": []
    },
    {
      "cell_type": "code",
      "source": [
        "     ACC=[]\n",
        "     SN=[]\n",
        "     SP=[]\n",
        "     F2=[]\n",
        "     from sklearn.metrics import f1_score\n",
        "     C = confusion_matrix(y_test, y_pred, labels=(1, 0))\n",
        "     TP, TN, FP, FN = C[0, 0], C[1, 1], C[1, 0], C[0, 1]\n",
        "     acc, sn, sp = 1. * (TP + TN) / (TP + TN + FP + FN), 1. * TP / (TP + FN), 1. * TN / (TN + FP)\n",
        "     f2=f1_score(y_test, y_pred)\n",
        "     # APPENDING ACC,SN, SP, AND F2\n",
        "     ACC.append(acc * 100)\n",
        "     SN.append(sn * 100)\n",
        "     SP.append(sp * 100)\n",
        "     F2.append(f2 * 100)"
      ],
      "metadata": {
        "id": "VE0TAWFywp3W"
      },
      "execution_count": 19,
      "outputs": []
    },
    {
      "cell_type": "code",
      "source": [
        "print(C)"
      ],
      "metadata": {
        "id": "C_12mfWww58g",
        "colab": {
          "base_uri": "https://localhost:8080/"
        },
        "outputId": "c51d8147-bbcb-4212-e087-d61344c0c5d5"
      },
      "execution_count": 20,
      "outputs": [
        {
          "output_type": "stream",
          "name": "stdout",
          "text": [
            "[[1782 4708]\n",
            " [1339 9116]]\n"
          ]
        }
      ]
    },
    {
      "cell_type": "code",
      "source": [
        "from sklearn.metrics import confusion_matrix, ConfusionMatrixDisplay\n",
        "import matplotlib.pyplot as plt\n",
        "import seaborn as sns\n",
        "from sklearn.metrics import confusion_matrix, ConfusionMatrixDisplay\n",
        "disp = ConfusionMatrixDisplay(confusion_matrix=C,display_labels=(0, 1))\n",
        "import matplotlib.pyplot as plt\n",
        "sns.heatmap(C, annot=True, fmt=\"d\", cmap=\"YlGnBu\", cbar=False)\n",
        "plt.xlabel('Predicted Labels')\n",
        "plt.ylabel('True Labels')\n",
        "plt.title('Confusion Matrix')\n",
        "plt.savefig(\"/content/drive/MyDrive/apnea-ecg/1.0.0/First3_Conf.png\",dpi=1200)\n",
        "plt.show()\n"
      ],
      "metadata": {
        "colab": {
          "base_uri": "https://localhost:8080/",
          "height": 472
        },
        "id": "ghYekMNW73Tx",
        "outputId": "d817e48b-0911-48e7-b24a-69f1877bb73a"
      },
      "execution_count": 28,
      "outputs": [
        {
          "output_type": "display_data",
          "data": {
            "text/plain": [
              "<Figure size 640x480 with 1 Axes>"
            ],
            "image/png": "[encoded data removed]"
          },
          "metadata": {}
        }
      ]
    },
    {
      "cell_type": "code",
      "source": [
        "print(f2)"
      ],
      "metadata": {
        "colab": {
          "base_uri": "https://localhost:8080/"
        },
        "id": "LYm8x4B48MGy",
        "outputId": "f000479d-08f6-4585-839f-a75ac82e831c"
      },
      "execution_count": 22,
      "outputs": [
        {
          "output_type": "stream",
          "name": "stdout",
          "text": [
            "0.3708250962438872\n"
          ]
        }
      ]
    },
    {
      "cell_type": "code",
      "source": [
        "from sklearn.metrics import classification_report\n",
        "print(classification_report(y_test, y_pred))"
      ],
      "metadata": {
        "colab": {
          "base_uri": "https://localhost:8080/"
        },
        "id": "OvBYApb98Q_1",
        "outputId": "baef25f9-c01c-45ac-d7d4-5c05490a20c9"
      },
      "execution_count": 17,
      "outputs": [
        {
          "output_type": "stream",
          "name": "stdout",
          "text": [
            "              precision    recall  f1-score   support\n",
            "\n",
            "         0.0       0.66      0.87      0.75     10455\n",
            "         1.0       0.57      0.27      0.37      6490\n",
            "\n",
            "    accuracy                           0.64     16945\n",
            "   macro avg       0.62      0.57      0.56     16945\n",
            "weighted avg       0.63      0.64      0.61     16945\n",
            "\n"
          ]
        }
      ]
    },
    {
      "cell_type": "code",
      "source": [],
      "metadata": {
        "id": "UzJVTU6RwUFk"
      },
      "execution_count": null,
      "outputs": []
    },
    {
      "cell_type": "code",
      "source": [],
      "metadata": {
        "id": "j4D8jFss8fN7"
      },
      "execution_count": null,
      "outputs": []
    }
  ]
}