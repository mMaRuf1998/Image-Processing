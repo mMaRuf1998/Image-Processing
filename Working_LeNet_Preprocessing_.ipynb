{
  "cells": [
    {
      "cell_type": "markdown",
      "metadata": {
        "id": "view-in-github",
        "colab_type": "text"
      },
      "source": [
        "<a href=\"https://colab.research.google.com/github/mMaRuf1998/Image-Processing/blob/main/Working_LeNet_Preprocessing_.ipynb\" target=\"_parent\"><img src=\"https://colab.research.google.com/assets/colab-badge.svg\" alt=\"Open In Colab\"/></a>"
      ]
    },
    {
      "cell_type": "code",
      "execution_count": null,
      "metadata": {
        "id": "Dk8VVGpaWM3I"
      },
      "outputs": [],
      "source": [
        "import pickle\n",
        "import sys\n",
        "from concurrent.futures import ProcessPoolExecutor, as_completed\n",
        "import biosppy.signals.tools as st\n",
        "from biosppy.signals.ecg import correct_rpeaks, hamilton_segmenter\n",
        "import numpy as np\n",
        "import os\n",
        "import wfdb\n",
        "import biosppy\n",
        "from scipy.signal import medfilt\n",
        "from tqdm import tqdm\n"
      ]
    },
    {
      "cell_type": "code",
      "execution_count": null,
      "metadata": {
        "colab": {
          "base_uri": "https://localhost:8080/"
        },
        "id": "IVleJAKFvEyg",
        "outputId": "4b2bf896-e884-4781-b5bd-4f8120461693"
      },
      "outputs": [
        {
          "name": "stdout",
          "output_type": "stream",
          "text": [
            "Collecting biosppy==0.7.2\n",
            "  Downloading biosppy-0.7.2.tar.gz (90 kB)\n",
            "\u001b[?25l     \u001b[90m━━━━━━━━━━━━━━━━━━━━━━━━━━━━━━━━━━━━━━━━\u001b[0m \u001b[32m0.0/90.9 kB\u001b[0m \u001b[31m?\u001b[0m eta \u001b[36m-:--:--\u001b[0m\r\u001b[2K     \u001b[91m━━━━━━━━━━━━━━━━━━\u001b[0m\u001b[90m╺\u001b[0m\u001b[90m━━━━━━━━━━━━━━━━━━━━━\u001b[0m \u001b[32m41.0/90.9 kB\u001b[0m \u001b[31m1.3 MB/s\u001b[0m eta \u001b[36m0:00:01\u001b[0m\r\u001b[2K     \u001b[90m━━━━━━━━━━━━━━━━━━━━━━━━━━━━━━━━━━━━━━━━\u001b[0m \u001b[32m90.9/90.9 kB\u001b[0m \u001b[31m1.8 MB/s\u001b[0m eta \u001b[36m0:00:00\u001b[0m\n",
            "\u001b[?25h  Preparing metadata (setup.py) ... \u001b[?25l\u001b[?25hdone\n",
            "Requirement already satisfied: bidict in /usr/local/lib/python3.10/dist-packages (from biosppy==0.7.2) (0.23.1)\n",
            "Requirement already satisfied: h5py in /usr/local/lib/python3.10/dist-packages (from biosppy==0.7.2) (3.9.0)\n",
            "Requirement already satisfied: matplotlib in /usr/local/lib/python3.10/dist-packages (from biosppy==0.7.2) (3.7.1)\n",
            "Requirement already satisfied: numpy in /usr/local/lib/python3.10/dist-packages (from biosppy==0.7.2) (1.25.2)\n",
            "Requirement already satisfied: scikit-learn in /usr/local/lib/python3.10/dist-packages (from biosppy==0.7.2) (1.2.2)\n",
            "Requirement already satisfied: scipy in /usr/local/lib/python3.10/dist-packages (from biosppy==0.7.2) (1.11.4)\n",
            "Collecting shortuuid (from biosppy==0.7.2)\n",
            "  Downloading shortuuid-1.0.13-py3-none-any.whl (10 kB)\n",
            "Requirement already satisfied: six in /usr/local/lib/python3.10/dist-packages (from biosppy==0.7.2) (1.16.0)\n",
            "Requirement already satisfied: joblib in /usr/local/lib/python3.10/dist-packages (from biosppy==0.7.2) (1.3.2)\n",
            "Requirement already satisfied: opencv-python in /usr/local/lib/python3.10/dist-packages (from biosppy==0.7.2) (4.8.0.76)\n",
            "Requirement already satisfied: contourpy>=1.0.1 in /usr/local/lib/python3.10/dist-packages (from matplotlib->biosppy==0.7.2) (1.2.0)\n",
            "Requirement already satisfied: cycler>=0.10 in /usr/local/lib/python3.10/dist-packages (from matplotlib->biosppy==0.7.2) (0.12.1)\n",
            "Requirement already satisfied: fonttools>=4.22.0 in /usr/local/lib/python3.10/dist-packages (from matplotlib->biosppy==0.7.2) (4.50.0)\n",
            "Requirement already satisfied: kiwisolver>=1.0.1 in /usr/local/lib/python3.10/dist-packages (from matplotlib->biosppy==0.7.2) (1.4.5)\n",
            "Requirement already satisfied: packaging>=20.0 in /usr/local/lib/python3.10/dist-packages (from matplotlib->biosppy==0.7.2) (24.0)\n",
            "Requirement already satisfied: pillow>=6.2.0 in /usr/local/lib/python3.10/dist-packages (from matplotlib->biosppy==0.7.2) (9.4.0)\n",
            "Requirement already satisfied: pyparsing>=2.3.1 in /usr/local/lib/python3.10/dist-packages (from matplotlib->biosppy==0.7.2) (3.1.2)\n",
            "Requirement already satisfied: python-dateutil>=2.7 in /usr/local/lib/python3.10/dist-packages (from matplotlib->biosppy==0.7.2) (2.8.2)\n",
            "Requirement already satisfied: threadpoolctl>=2.0.0 in /usr/local/lib/python3.10/dist-packages (from scikit-learn->biosppy==0.7.2) (3.4.0)\n",
            "Building wheels for collected packages: biosppy\n",
            "  Building wheel for biosppy (setup.py) ... \u001b[?25l\u001b[?25hdone\n",
            "  Created wheel for biosppy: filename=biosppy-0.7.2-py2.py3-none-any.whl size=102094 sha256=a0faa01f0dd4529948aaf818d2de7b2b21ededa026b1ba447d7ea403c6113316\n",
            "  Stored in directory: /root/.cache/pip/wheels/9c/74/a0/b2d489ebfcc312c22923501e7c2efaf627efdcded21cc64bfe\n",
            "Successfully built biosppy\n",
            "Installing collected packages: shortuuid, biosppy\n",
            "Successfully installed biosppy-0.7.2 shortuuid-1.0.13\n"
          ]
        }
      ],
      "source": [
        "!pip install biosppy==0.7.2"
      ]
    },
    {
      "cell_type": "code",
      "execution_count": null,
      "metadata": {
        "colab": {
          "base_uri": "https://localhost:8080/"
        },
        "id": "frw2mv46vMUm",
        "outputId": "c5d0fb2d-45c5-46b4-d27e-4540a2bb4854"
      },
      "outputs": [
        {
          "name": "stdout",
          "output_type": "stream",
          "text": [
            "Collecting wfdb\n",
            "  Downloading wfdb-4.1.2-py3-none-any.whl (159 kB)\n",
            "\u001b[?25l     \u001b[90m━━━━━━━━━━━━━━━━━━━━━━━━━━━━━━━━━━━━━━━━\u001b[0m \u001b[32m0.0/160.0 kB\u001b[0m \u001b[31m?\u001b[0m eta \u001b[36m-:--:--\u001b[0m\r\u001b[2K     \u001b[91m━━━━━━━━━━━━━━━\u001b[0m\u001b[90m╺\u001b[0m\u001b[90m━━━━━━━━━━━━━━━━━━━━━━━━\u001b[0m \u001b[32m61.4/160.0 kB\u001b[0m \u001b[31m1.8 MB/s\u001b[0m eta \u001b[36m0:00:01\u001b[0m\r\u001b[2K     \u001b[90m━━━━━━━━━━━━━━━━━━━━━━━━━━━━━━━━━━━━━━━━\u001b[0m \u001b[32m160.0/160.0 kB\u001b[0m \u001b[31m2.6 MB/s\u001b[0m eta \u001b[36m0:00:00\u001b[0m\n",
            "\u001b[?25hRequirement already satisfied: SoundFile>=0.10.0 in /usr/local/lib/python3.10/dist-packages (from wfdb) (0.12.1)\n",
            "Requirement already satisfied: matplotlib>=3.2.2 in /usr/local/lib/python3.10/dist-packages (from wfdb) (3.7.1)\n",
            "Requirement already satisfied: numpy>=1.10.1 in /usr/local/lib/python3.10/dist-packages (from wfdb) (1.25.2)\n",
            "Requirement already satisfied: pandas>=1.3.0 in /usr/local/lib/python3.10/dist-packages (from wfdb) (2.0.3)\n",
            "Requirement already satisfied: requests>=2.8.1 in /usr/local/lib/python3.10/dist-packages (from wfdb) (2.31.0)\n",
            "Requirement already satisfied: scipy>=1.0.0 in /usr/local/lib/python3.10/dist-packages (from wfdb) (1.11.4)\n",
            "Requirement already satisfied: contourpy>=1.0.1 in /usr/local/lib/python3.10/dist-packages (from matplotlib>=3.2.2->wfdb) (1.2.0)\n",
            "Requirement already satisfied: cycler>=0.10 in /usr/local/lib/python3.10/dist-packages (from matplotlib>=3.2.2->wfdb) (0.12.1)\n",
            "Requirement already satisfied: fonttools>=4.22.0 in /usr/local/lib/python3.10/dist-packages (from matplotlib>=3.2.2->wfdb) (4.50.0)\n",
            "Requirement already satisfied: kiwisolver>=1.0.1 in /usr/local/lib/python3.10/dist-packages (from matplotlib>=3.2.2->wfdb) (1.4.5)\n",
            "Requirement already satisfied: packaging>=20.0 in /usr/local/lib/python3.10/dist-packages (from matplotlib>=3.2.2->wfdb) (24.0)\n",
            "Requirement already satisfied: pillow>=6.2.0 in /usr/local/lib/python3.10/dist-packages (from matplotlib>=3.2.2->wfdb) (9.4.0)\n",
            "Requirement already satisfied: pyparsing>=2.3.1 in /usr/local/lib/python3.10/dist-packages (from matplotlib>=3.2.2->wfdb) (3.1.2)\n",
            "Requirement already satisfied: python-dateutil>=2.7 in /usr/local/lib/python3.10/dist-packages (from matplotlib>=3.2.2->wfdb) (2.8.2)\n",
            "Requirement already satisfied: pytz>=2020.1 in /usr/local/lib/python3.10/dist-packages (from pandas>=1.3.0->wfdb) (2023.4)\n",
            "Requirement already satisfied: tzdata>=2022.1 in /usr/local/lib/python3.10/dist-packages (from pandas>=1.3.0->wfdb) (2024.1)\n",
            "Requirement already satisfied: charset-normalizer<4,>=2 in /usr/local/lib/python3.10/dist-packages (from requests>=2.8.1->wfdb) (3.3.2)\n",
            "Requirement already satisfied: idna<4,>=2.5 in /usr/local/lib/python3.10/dist-packages (from requests>=2.8.1->wfdb) (3.6)\n",
            "Requirement already satisfied: urllib3<3,>=1.21.1 in /usr/local/lib/python3.10/dist-packages (from requests>=2.8.1->wfdb) (2.0.7)\n",
            "Requirement already satisfied: certifi>=2017.4.17 in /usr/local/lib/python3.10/dist-packages (from requests>=2.8.1->wfdb) (2024.2.2)\n",
            "Requirement already satisfied: cffi>=1.0 in /usr/local/lib/python3.10/dist-packages (from SoundFile>=0.10.0->wfdb) (1.16.0)\n",
            "Requirement already satisfied: pycparser in /usr/local/lib/python3.10/dist-packages (from cffi>=1.0->SoundFile>=0.10.0->wfdb) (2.22)\n",
            "Requirement already satisfied: six>=1.5 in /usr/local/lib/python3.10/dist-packages (from python-dateutil>=2.7->matplotlib>=3.2.2->wfdb) (1.16.0)\n",
            "Installing collected packages: wfdb\n",
            "Successfully installed wfdb-4.1.2\n"
          ]
        }
      ],
      "source": [
        "!pip install wfdb"
      ]
    },
    {
      "cell_type": "code",
      "execution_count": null,
      "metadata": {
        "colab": {
          "base_uri": "https://localhost:8080/"
        },
        "id": "rAnniqOivTwB",
        "outputId": "35eb7409-c72b-44b9-e4a2-872609ba9039"
      },
      "outputs": [
        {
          "name": "stdout",
          "output_type": "stream",
          "text": [
            "Collecting sklearn==0.0.post12\n",
            "  Downloading sklearn-0.0.post12.tar.gz (2.6 kB)\n",
            "  \u001b[1;31merror\u001b[0m: \u001b[1msubprocess-exited-with-error\u001b[0m\n",
            "  \n",
            "  \u001b[31m×\u001b[0m \u001b[32mpython setup.py egg_info\u001b[0m did not run successfully.\n",
            "  \u001b[31m│\u001b[0m exit code: \u001b[1;36m1\u001b[0m\n",
            "  \u001b[31m╰─>\u001b[0m See above for output.\n",
            "  \n",
            "  \u001b[1;35mnote\u001b[0m: This error originates from a subprocess, and is likely not a problem with pip.\n",
            "  Preparing metadata (setup.py) ... \u001b[?25l\u001b[?25herror\n",
            "\u001b[1;31merror\u001b[0m: \u001b[1mmetadata-generation-failed\u001b[0m\n",
            "\n",
            "\u001b[31m×\u001b[0m Encountered error while generating package metadata.\n",
            "\u001b[31m╰─>\u001b[0m See above for output.\n",
            "\n",
            "\u001b[1;35mnote\u001b[0m: This is an issue with the package mentioned above, not pip.\n",
            "\u001b[1;36mhint\u001b[0m: See above for details.\n"
          ]
        }
      ],
      "source": [
        "!pip install sklearn==0.0.post12"
      ]
    },
    {
      "cell_type": "code",
      "execution_count": null,
      "metadata": {
        "id": "7he9XtsOvuHh"
      },
      "outputs": [],
      "source": [
        "base_dir = \"/content/drive/MyDrive/apnea-ecg/1.0.0\"\n",
        "\n",
        "fs = 100\n",
        "sample = fs * 60  # 1 min's sample points\n",
        "\n",
        "before = 2  # forward interval (min)\n",
        "after = 2  # backward interval (min)\n",
        "hr_min = 20\n",
        "hr_max = 300\n",
        "import os\n",
        "num_worker = 35 if os.cpu_count() > 35 else os.cpu_count() - 1  # Setting according to the number of CPU cores\n",
        "\n"
      ]
    },
    {
      "cell_type": "code",
      "execution_count": null,
      "metadata": {
        "id": "11z6MUfaw8up"
      },
      "outputs": [],
      "source": [
        "def worker(name, labels):\n",
        "    X = []\n",
        "    y = []\n",
        "    groups = []\n",
        "    signals = wfdb.rdrecord(os.path.join(base_dir, name), channels=[0]).p_signal[:, 0]\n",
        "    for j in tqdm(range(len(labels)), desc=name, file=sys.stdout):\n",
        "        if j < before or \\\n",
        "                (j + 1 + after) > len(signals) / float(sample):\n",
        "            continue\n",
        "        signal = signals[int((j - before) * sample):int((j + 1 + after) * sample)]\n",
        "        signal, _, _ = st.filter_signal(signal, ftype='FIR', band='bandpass', order=int(0.3 * fs),\n",
        "                                        frequency=[3, 45], sampling_rate=fs)\n",
        "        # Find R peaks\n",
        "        rpeaks, = hamilton_segmenter(signal, sampling_rate=fs)\n",
        "        rpeaks, = correct_rpeaks(signal, rpeaks=rpeaks, sampling_rate=fs, tol=0.1)\n",
        "        if len(rpeaks) / (1 + after + before) < 40 or \\\n",
        "                len(rpeaks) / (1 + after + before) > 200:  # Remove abnormal R peaks signal\n",
        "            continue\n",
        "        # Extract RRI, Ampl signal\n",
        "        rri_tm, rri_signal = rpeaks[1:] / float(fs), np.diff(rpeaks) / float(fs)\n",
        "        rri_signal = medfilt(rri_signal, kernel_size=3)\n",
        "        ampl_tm, ampl_siganl = rpeaks / float(fs), signal[rpeaks]\n",
        "        hr = 60 / rri_signal\n",
        "        # Remove physiologically impossible HR signal\n",
        "        if np.all(np.logical_and(hr >= hr_min, hr <= hr_max)):\n",
        "            # Save extracted signal\n",
        "            X.append([(rri_tm, rri_signal), (ampl_tm, ampl_siganl)])\n",
        "            y.append(0. if labels[j] == 'N' else 1.)\n",
        "            groups.append(name)\n",
        "    return X, y, groups"
      ]
    },
    {
      "cell_type": "code",
      "execution_count": null,
      "metadata": {
        "colab": {
          "background_save": true,
          "base_uri": "https://localhost:8080/"
        },
        "id": "iv9bBDTExB4I",
        "outputId": "6cb7f30c-0ac9-4484-bed6-6c7ee61c1f2d"
      },
      "outputs": [
        {
          "name": "stdout",
          "output_type": "stream",
          "text": [
            "Training...\n",
            "a01: 100%|██████████| 489/489 [02:03<00:00,  3.95it/s]\n",
            "a02: 100%|██████████| 528/528 [02:15<00:00,  3.91it/s]\n",
            "a03: 100%|██████████| 519/519 [02:00<00:00,  4.32it/s]\n",
            "a04: 100%|██████████| 492/492 [01:51<00:00,  4.42it/s]\n",
            "a05: 100%|██████████| 454/454 [01:39<00:00,  4.54it/s]\n",
            "a06: 100%|██████████| 510/510 [02:07<00:00,  4.00it/s]\n",
            "a07: 100%|██████████| 511/511 [01:55<00:00,  4.43it/s]\n",
            "a08: 100%|██████████| 501/501 [01:56<00:00,  4.30it/s]\n",
            "a09: 100%|██████████| 495/495 [01:56<00:00,  4.26it/s]\n",
            "a10: 100%|██████████| 517/517 [02:00<00:00,  4.30it/s]\n",
            "a11: 100%|██████████| 466/466 [01:50<00:00,  4.22it/s]\n",
            "a12: 100%|██████████| 577/577 [02:14<00:00,  4.30it/s]\n",
            "a13: 100%|██████████| 495/495 [01:54<00:00,  4.33it/s]\n",
            "a14: 100%|██████████| 509/509 [01:55<00:00,  4.39it/s]\n",
            "a15: 100%|██████████| 510/510 [02:05<00:00,  4.08it/s]\n",
            "a16: 100%|██████████| 482/482 [01:49<00:00,  4.40it/s]\n",
            "a17: 100%|██████████| 485/485 [02:14<00:00,  3.60it/s]\n",
            "a18: 100%|██████████| 489/489 [01:53<00:00,  4.31it/s]\n",
            "a19: 100%|██████████| 502/502 [01:50<00:00,  4.56it/s]\n",
            "a20: 100%|██████████| 510/510 [02:03<00:00,  4.13it/s]\n",
            "b01: 100%|██████████| 487/487 [01:59<00:00,  4.09it/s]\n",
            "b02: 100%|██████████| 517/517 [01:58<00:00,  4.35it/s]\n",
            "b03: 100%|██████████| 441/441 [01:44<00:00,  4.21it/s]\n",
            "b04: 100%|██████████| 429/429 [01:37<00:00,  4.39it/s]\n",
            "b05: 100%|██████████| 433/433 [01:40<00:00,  4.29it/s]\n",
            "c01: 100%|██████████| 484/484 [01:50<00:00,  4.36it/s]\n",
            "c02: 100%|██████████| 502/502 [01:52<00:00,  4.47it/s]\n",
            "c03: 100%|██████████| 454/454 [01:42<00:00,  4.44it/s]\n",
            "c04:  99%|█████████▉| 479/482 [01:48<00:00,  4.97it/s]\n",
            "c05: 100%|██████████| 466/466 [01:51<00:00,  4.17it/s]\n",
            "c06: 100%|██████████| 468/468 [01:49<00:00,  4.26it/s]\n",
            "c07: 100%|██████████| 429/429 [01:43<00:00,  4.13it/s]\n",
            "c08: 100%|██████████| 513/513 [01:58<00:00,  4.33it/s]\n",
            "c09: 100%|██████████| 468/468 [01:44<00:00,  4.48it/s]\n",
            "c10: 100%|██████████| 431/431 [01:35<00:00,  4.52it/s]\n",
            "\n",
            "Testing...\n",
            "x01: 100%|██████████| 523/523 [02:01<00:00,  4.31it/s]\n",
            "x02: 100%|██████████| 469/469 [01:59<00:00,  3.91it/s]\n",
            "x03: 100%|██████████| 465/465 [01:54<00:00,  4.06it/s]\n",
            "x04: 100%|██████████| 482/482 [01:50<00:00,  4.37it/s]\n",
            "x05: 100%|██████████| 505/505 [01:54<00:00,  4.40it/s]\n",
            "x06: 100%|██████████| 450/450 [01:39<00:00,  4.52it/s]\n",
            "x07: 100%|██████████| 509/509 [01:56<00:00,  4.38it/s]\n",
            "x08: 100%|██████████| 517/517 [02:00<00:00,  4.29it/s]\n",
            "x09: 100%|██████████| 508/508 [02:00<00:00,  4.23it/s]\n",
            "x10: 100%|██████████| 510/510 [02:00<00:00,  4.22it/s]\n",
            "x11: 100%|██████████| 457/457 [01:45<00:00,  4.33it/s]\n",
            "x12: 100%|██████████| 527/527 [02:23<00:00,  3.68it/s]\n",
            "x13: 100%|██████████| 506/506 [02:03<00:00,  4.11it/s]\n",
            "x14: 100%|██████████| 490/490 [02:02<00:00,  3.99it/s]\n",
            "x15: 100%|██████████| 498/498 [02:01<00:00,  4.10it/s]\n",
            "x16: 100%|██████████| 515/515 [01:54<00:00,  4.51it/s]\n",
            "x17: 100%|██████████| 400/400 [01:37<00:00,  4.11it/s]\n",
            "x18: 100%|██████████| 459/459 [01:43<00:00,  4.44it/s]\n",
            "x19: 100%|██████████| 487/487 [01:52<00:00,  4.33it/s]\n",
            "x20: 100%|██████████| 513/513 [02:02<00:00,  4.17it/s]\n",
            "x21: 100%|██████████| 510/510 [01:54<00:00,  4.47it/s]\n",
            "x22: 100%|██████████| 482/482 [01:44<00:00,  4.59it/s]\n",
            "x23: 100%|██████████| 527/527 [02:04<00:00,  4.22it/s]\n",
            "x24: 100%|██████████| 429/429 [01:33<00:00,  4.57it/s]\n",
            "x25: 100%|██████████| 510/510 [01:58<00:00,  4.31it/s]\n",
            "x26: 100%|██████████| 520/520 [01:59<00:00,  4.36it/s]\n",
            "x27: 100%|██████████| 498/498 [01:58<00:00,  4.20it/s]\n",
            "x28: 100%|██████████| 495/495 [01:59<00:00,  4.13it/s]\n",
            "x29: 100%|██████████| 470/470 [01:43<00:00,  4.54it/s]\n",
            "x30: 100%|██████████| 511/511 [01:53<00:00,  4.50it/s]\n",
            "x31: 100%|██████████| 557/557 [02:07<00:00,  4.38it/s]\n",
            "x32: 100%|██████████| 538/538 [02:10<00:00,  4.13it/s]\n",
            "x33: 100%|██████████| 473/473 [01:49<00:00,  4.32it/s]\n",
            "x34: 100%|██████████| 475/475 [01:48<00:00,  4.36it/s]\n",
            "x35: 100%|██████████| 483/483 [01:44<00:00,  4.62it/s]\n",
            "\n",
            "ok!\n"
          ]
        }
      ],
      "source": [
        "if __name__ == \"__main__\":\n",
        "    apnea_ecg = {}\n",
        "\n",
        "    names = [\n",
        "        \"a01\", \"a02\", \"a03\", \"a04\", \"a05\", \"a06\", \"a07\", \"a08\", \"a09\", \"a10\",\n",
        "        \"a11\", \"a12\", \"a13\", \"a14\", \"a15\", \"a16\", \"a17\", \"a18\", \"a19\", \"a20\",\n",
        "        \"b01\", \"b02\", \"b03\", \"b04\", \"b05\",\n",
        "        \"c01\", \"c02\", \"c03\", \"c04\", \"c05\", \"c06\", \"c07\", \"c08\", \"c09\", \"c10\"\n",
        "    ]\n",
        "\n",
        "    o_train = []\n",
        "    y_train = []\n",
        "    groups_train = []\n",
        "    print('Training...')\n",
        "    with ProcessPoolExecutor(max_workers=num_worker) as executor:\n",
        "        task_list = []\n",
        "        for i in range(len(names)):\n",
        "            labels = wfdb.rdann(os.path.join(base_dir, names[i]),\"apn\").symbol\n",
        "            task_list.append(executor.submit(worker, names[i], labels))\n",
        "\n",
        "        for task in as_completed(task_list):\n",
        "            X, y, groups = task.result()\n",
        "            o_train.extend(X)\n",
        "            y_train.extend(y)\n",
        "            groups_train.extend(groups)\n",
        "\n",
        "    print()\n",
        "\n",
        "    answers = {}\n",
        "    with open(os.path.join(base_dir, \"event-2-answers\"), \"r\") as f:\n",
        "        for answer in f.read().split(\"\\n\\n\"):\n",
        "            answers[answer[:3]] = list(\"\".join(answer.split()[2::2]))\n",
        "\n",
        "    names = [\n",
        "        \"x01\", \"x02\", \"x03\", \"x04\", \"x05\", \"x06\", \"x07\", \"x08\", \"x09\", \"x10\",\n",
        "        \"x11\", \"x12\", \"x13\", \"x14\", \"x15\", \"x16\", \"x17\", \"x18\", \"x19\", \"x20\",\n",
        "        \"x21\", \"x22\", \"x23\", \"x24\", \"x25\", \"x26\", \"x27\", \"x28\", \"x29\", \"x30\",\n",
        "        \"x31\", \"x32\", \"x33\", \"x34\", \"x35\"\n",
        "    ]\n",
        "\n",
        "    o_test = []\n",
        "    y_test = []\n",
        "    groups_test = []\n",
        "    print(\"Testing...\")\n",
        "    with ProcessPoolExecutor(max_workers=num_worker) as executor:\n",
        "        task_list = []\n",
        "        for i in range(len(names)):\n",
        "            labels = answers[names[i]]\n",
        "            task_list.append(executor.submit(worker, names[i], labels))\n",
        "\n",
        "        for task in as_completed(task_list):\n",
        "            X, y, groups = task.result()\n",
        "            o_test.extend(X)\n",
        "            y_test.extend(y)\n",
        "            groups_test.extend(groups)\n",
        "\n",
        "    apnea_ecg = dict(o_train=o_train, y_train=y_train, groups_train=groups_train, o_test=o_test, y_test=y_test,\n",
        "                     groups_test=groups_test)\n",
        "    with open(os.path.join(base_dir, \"apnea-ecg2.pkl\"), \"wb\") as f:\n",
        "        pickle.dump(apnea_ecg, f, protocol=2)\n",
        "\n",
        "    print(\"\\nok!\")"
      ]
    },
    {
      "cell_type": "code",
      "execution_count": null,
      "metadata": {
        "id": "UnSJuBjZxKgD"
      },
      "outputs": [],
      "source": []
    }
  ],
  "metadata": {
    "accelerator": "GPU",
    "colab": {
      "gpuType": "T4",
      "provenance": [],
      "mount_file_id": "1ZpR_8J0xGqvo26TlXy5JaU8ZLotLb8Wh",
      "authorship_tag": "ABX9TyN5pX6kR8TO5ef0LSG2jlzx",
      "include_colab_link": true
    },
    "kernelspec": {
      "display_name": "Python 3",
      "name": "python3"
    },
    "language_info": {
      "name": "python"
    }
  },
  "nbformat": 4,
  "nbformat_minor": 0
}